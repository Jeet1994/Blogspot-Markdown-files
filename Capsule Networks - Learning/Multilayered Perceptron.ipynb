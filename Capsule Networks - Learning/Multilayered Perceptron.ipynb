{
 "cells": [
  {
   "cell_type": "markdown",
   "metadata": {},
   "source": [
    "## Code from : [Here](http://www.deepideas.net/deep-learning-from-scratch-vi-tensorflow/)"
   ]
  },
  {
   "cell_type": "code",
   "execution_count": 1,
   "metadata": {},
   "outputs": [
    {
     "name": "stderr",
     "output_type": "stream",
     "text": [
      "C:\\Users\\Pragyaditya Das\\Anaconda3\\lib\\site-packages\\h5py\\__init__.py:36: FutureWarning: Conversion of the second argument of issubdtype from `float` to `np.floating` is deprecated. In future, it will be treated as `np.float64 == np.dtype(float).type`.\n",
      "  from ._conv import register_converters as _register_converters\n"
     ]
    }
   ],
   "source": [
    "import tensorflow as tf"
   ]
  },
  {
   "cell_type": "code",
   "execution_count": 2,
   "metadata": {},
   "outputs": [],
   "source": [
    "import numpy as np"
   ]
  },
  {
   "cell_type": "code",
   "execution_count": 3,
   "metadata": {},
   "outputs": [],
   "source": [
    "import matplotlib.pyplot as plt"
   ]
  },
  {
   "cell_type": "code",
   "execution_count": 4,
   "metadata": {},
   "outputs": [],
   "source": [
    "red_points = np.concatenate((\n",
    "    0.2*np.random.randn(25, 2) + np.array([[0, 0]]*25),\n",
    "    0.2*np.random.randn(25, 2) + np.array([[1, 1]]*25)\n",
    "))"
   ]
  },
  {
   "cell_type": "code",
   "execution_count": 5,
   "metadata": {},
   "outputs": [],
   "source": [
    "blue_points = np.concatenate((\n",
    "    0.2*np.random.randn(25, 2) + np.array([[0, 1]]*25),\n",
    "    0.2*np.random.randn(25, 2) + np.array([[1, 0]]*25)\n",
    "))"
   ]
  },
  {
   "cell_type": "code",
   "execution_count": 6,
   "metadata": {},
   "outputs": [],
   "source": [
    "X = tf.placeholder(dtype=tf.float64)"
   ]
  },
  {
   "cell_type": "code",
   "execution_count": 7,
   "metadata": {},
   "outputs": [],
   "source": [
    "c = tf.placeholder(dtype=tf.float64)"
   ]
  },
  {
   "cell_type": "code",
   "execution_count": 8,
   "metadata": {},
   "outputs": [],
   "source": [
    "W_hidden = tf.Variable(np.random.randn(2, 2))\n",
    "b_hidden = tf.Variable(np.random.randn(2))\n",
    "p_hidden = tf.sigmoid( tf.add(tf.matmul(X, W_hidden), b_hidden) )"
   ]
  },
  {
   "cell_type": "code",
   "execution_count": 9,
   "metadata": {},
   "outputs": [],
   "source": [
    "W_output = tf.Variable(np.random.randn(2, 2))\n",
    "b_output = tf.Variable(np.random.randn(2))\n",
    "p_output = tf.nn.softmax( tf.add(tf.matmul(p_hidden, W_output), b_output) )"
   ]
  },
  {
   "cell_type": "code",
   "execution_count": 10,
   "metadata": {},
   "outputs": [],
   "source": [
    "J = tf.negative(tf.reduce_sum(tf.reduce_sum(tf.multiply(c, tf.log(p_output)), axis=1)))"
   ]
  },
  {
   "cell_type": "code",
   "execution_count": 11,
   "metadata": {},
   "outputs": [],
   "source": [
    "minimization_op = tf.train.GradientDescentOptimizer(learning_rate = 0.01).minimize(J)"
   ]
  },
  {
   "cell_type": "code",
   "execution_count": 12,
   "metadata": {},
   "outputs": [],
   "source": [
    "feed_dict = {\n",
    "    X: np.concatenate((blue_points, red_points)),\n",
    "    c:\n",
    "        [[1, 0]] * len(blue_points)\n",
    "        + [[0, 1]] * len(red_points)\n",
    "\n",
    "}\n"
   ]
  },
  {
   "cell_type": "code",
   "execution_count": 13,
   "metadata": {},
   "outputs": [],
   "source": [
    "session = tf.Session()"
   ]
  },
  {
   "cell_type": "code",
   "execution_count": 14,
   "metadata": {},
   "outputs": [],
   "source": [
    "session.run(tf.global_variables_initializer())"
   ]
  },
  {
   "cell_type": "code",
   "execution_count": 15,
   "metadata": {},
   "outputs": [
    {
     "name": "stdout",
     "output_type": "stream",
     "text": [
      "Step: 0  Loss: 167.48540280320876\n",
      "Step: 100  Loss: 53.48497699847397\n",
      "Step: 200  Loss: 46.53247264405475\n",
      "Step: 300  Loss: 43.598379728406044\n",
      "Step: 400  Loss: 42.06238576609746\n",
      "Step: 500  Loss: 41.1121831692167\n",
      "Step: 600  Loss: 40.46292445579111\n",
      "Step: 700  Loss: 39.99108201268377\n",
      "Step: 800  Loss: 39.63328117829823\n",
      "Step: 900  Loss: 39.353117514923525\n"
     ]
    }
   ],
   "source": [
    "for step in range(1000):\n",
    "    J_value = session.run(J, feed_dict)\n",
    "    if step % 100 == 0:\n",
    "        print(\"Step:\", step, \" Loss:\", J_value)\n",
    "    session.run(minimization_op, feed_dict)"
   ]
  },
  {
   "cell_type": "code",
   "execution_count": 16,
   "metadata": {},
   "outputs": [
    {
     "name": "stdout",
     "output_type": "stream",
     "text": [
      "Hidden layer weight matrix:\n",
      " [[ 6.84262636 -8.82052413]\n",
      " [-2.06804384 -4.7737689 ]]\n",
      "Hidden layer bias:\n",
      " [0.6958847  1.62059531]\n",
      "Output layer weight matrix:\n",
      " [[-3.74736796  2.41300009]\n",
      " [-4.96169958  4.92172086]]\n",
      "Output layer bias:\n",
      " [ 4.29394024 -1.9125693 ]\n"
     ]
    }
   ],
   "source": [
    "W_hidden_value = session.run(W_hidden)\n",
    "print(\"Hidden layer weight matrix:\\n\", W_hidden_value)\n",
    "b_hidden_value = session.run(b_hidden)\n",
    "print(\"Hidden layer bias:\\n\", b_hidden_value)\n",
    "W_output_value = session.run(W_output)\n",
    "print(\"Output layer weight matrix:\\n\", W_output_value)\n",
    "b_output_value = session.run(b_output)\n",
    "print(\"Output layer bias:\\n\", b_output_value)"
   ]
  },
  {
   "cell_type": "code",
   "execution_count": 17,
   "metadata": {},
   "outputs": [
    {
     "data": {
      "text/plain": [
       "[<matplotlib.lines.Line2D at 0x255daa207f0>,\n",
       " <matplotlib.lines.Line2D at 0x255daa20a90>]"
      ]
     },
     "execution_count": 17,
     "metadata": {},
     "output_type": "execute_result"
    },
    {
     "data": {
      "image/png": "[encoded data removed]",
      "text/plain": [
       "<Figure size 432x288 with 1 Axes>"
      ]
     },
     "metadata": {},
     "output_type": "display_data"
    }
   ],
   "source": [
    "xs = np.linspace(-2, 2)\n",
    "ys = np.linspace(-2, 2)\n",
    "pred_classes = []\n",
    "for x in xs:\n",
    "    for y in ys:\n",
    "        pred_class = session.run(p_output,\n",
    "                              feed_dict={X: [[x, y]]})[0]\n",
    "        pred_classes.append((x, y, pred_class.argmax()))\n",
    "xs_p, ys_p = [], []\n",
    "xs_n, ys_n = [], []\n",
    "for x, y, c in pred_classes:\n",
    "    if c == 0:\n",
    "        xs_n.append(x)\n",
    "        ys_n.append(y)\n",
    "    else:\n",
    "        xs_p.append(x)\n",
    "        ys_p.append(y)\n",
    "plt.plot(xs_p, ys_p, 'ro', xs_n, ys_n, 'bo')"
   ]
  },
  {
   "cell_type": "code",
   "execution_count": null,
   "metadata": {},
   "outputs": [],
   "source": []
  }
 ],
 "metadata": {
  "kernelspec": {
   "display_name": "Python 3",
   "language": "python",
   "name": "python3"
  },
  "language_info": {
   "codemirror_mode": {
    "name": "ipython",
    "version": 3
   },
   "file_extension": ".py",
   "mimetype": "text/x-python",
   "name": "python",
   "nbconvert_exporter": "python",
   "pygments_lexer": "ipython3",
   "version": "3.6.5"
  }
 },
 "nbformat": 4,
 "nbformat_minor": 2
}
